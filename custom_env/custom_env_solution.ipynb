{
 "cells": [
  {
   "cell_type": "code",
   "execution_count": 1,
   "metadata": {},
   "outputs": [],
   "source": [
    "# Solution ne, you can use nbconvert:to custom environment\n",
    "# Solved using Q-Learning"
   ]
  },
  {
   "cell_type": "code",
   "execution_count": 2,
   "metadata": {},
   "outputs": [],
   "source": [
    "from custom_environment import ENVIRONMENT\n",
    "from helpers import get_q_table, improve_q_table, Parameters\n",
    "import numpy as np\n",
    "import cv2\n",
    "import pickle"
   ]
  },
  {
   "cell_type": "code",
   "execution_count": null,
   "metadata": {},
   "outputs": [],
   "source": []
  },
  {
   "cell_type": "code",
   "execution_count": 3,
   "metadata": {},
   "outputs": [],
   "source": [
    "env = ENVIRONMENT(diagonal=True, size=10, num_enemy = 3, num_food = 1)\n",
    "q = get_q_table(size=10)\n",
    "parameters = Parameters()\n",
    "\n",
    "# # Test Environment\n",
    "# for i in range(10):\n",
    "#     print(env.step(np.random.randint(0,4)))\n",
    "#     env.render()\n",
    "\n",
    "# cv2.destroyAllWindows()\n",
    "# print(env.startover())"
   ]
  },
  {
   "cell_type": "code",
   "execution_count": 4,
   "metadata": {},
   "outputs": [
    {
     "name": "stdout",
     "output_type": "stream",
     "text": [
      "Episode:  0 state: (7, 6) | Total Average Reward: -0.242 | Epsilon: 0.9\n",
      "Episode:  500 state: (7, 6) | Total Average Reward: -64.888 | Epsilon: 0.9\n",
      "Episode:  1000 state: (4, 3) | Total Average Reward: 14.958 | Epsilon: 0.9\n",
      "Episode:  1500 state: (4, 3) | Total Average Reward: 56.79 | Epsilon: 0.9\n",
      "Episode:  2000 state: (4, 3) | Total Average Reward: 74.832 | Epsilon: 0.9\n",
      "Episode:  2500 state: (4, 3) | Total Average Reward: 76.306 | Epsilon: 0.9\n",
      "Episode:  3000 state: (4, 3) | Total Average Reward: 81.838 | Epsilon: 0.9\n",
      "Episode:  3500 state: (4, 3) | Total Average Reward: 79.756 | Epsilon: 0.9\n",
      "Episode:  4000 state: (4, 3) | Total Average Reward: 79.532 | Epsilon: 0.9\n",
      "Episode:  4500 state: (4, 3) | Total Average Reward: 80.52 | Epsilon: 0.9\n",
      "Episode:  5000 state: (4, 3) | Total Average Reward: 80.572 | Epsilon: 0.9\n",
      "Episode:  5500 state: (4, 3) | Total Average Reward: 82.718 | Epsilon: 0.9\n",
      "Episode:  6000 state: (4, 3) | Total Average Reward: 81.148 | Epsilon: 0.9\n",
      "Episode:  6500 state: (4, 3) | Total Average Reward: 81.508 | Epsilon: 0.9\n",
      "Episode:  7000 state: (4, 3) | Total Average Reward: 80.462 | Epsilon: 0.9\n",
      "Episode:  7500 state: (4, 3) | Total Average Reward: 80.868 | Epsilon: 0.9\n",
      "Episode:  8000 state: (4, 3) | Total Average Reward: 81.39 | Epsilon: 0.9\n",
      "Episode:  8500 state: (4, 3) | Total Average Reward: 81.702 | Epsilon: 0.9\n",
      "Episode:  9000 state: (4, 3) | Total Average Reward: 82.132 | Epsilon: 0.9\n",
      "Episode:  9500 state: (4, 3) | Total Average Reward: 83.336 | Epsilon: 0.9\n",
      "Episode:  10000 state: (4, 3) | Total Average Reward: 82.468 | Epsilon: 0.9\n",
      "Episode:  10500 state: (4, 3) | Total Average Reward: 80.508 | Epsilon: 0.9\n",
      "Episode:  11000 state: (4, 3) | Total Average Reward: 82.934 | Epsilon: 0.9\n",
      "Episode:  11500 state: (4, 3) | Total Average Reward: 81.552 | Epsilon: 0.9\n",
      "Episode:  12000 state: (4, 3) | Total Average Reward: 81.66 | Epsilon: 0.9\n",
      "Episode:  12500 state: (4, 3) | Total Average Reward: 82.716 | Epsilon: 0.9\n",
      "Episode:  13000 state: (4, 3) | Total Average Reward: 82.186 | Epsilon: 0.9\n",
      "Episode:  13500 state: (4, 3) | Total Average Reward: 80.088 | Epsilon: 0.9\n",
      "Episode:  14000 state: (4, 3) | Total Average Reward: 83.58 | Epsilon: 0.9\n",
      "Episode:  14500 state: (4, 3) | Total Average Reward: 80.928 | Epsilon: 0.9\n",
      "Episode:  15000 state: (4, 3) | Total Average Reward: 80.746 | Epsilon: 0.9\n",
      "Episode:  15500 state: (4, 3) | Total Average Reward: 82.516 | Epsilon: 0.9\n",
      "Episode:  16000 state: (4, 3) | Total Average Reward: 81.54 | Epsilon: 0.9\n",
      "Episode:  16500 state: (4, 3) | Total Average Reward: 80.242 | Epsilon: 0.9\n",
      "Episode:  17000 state: (4, 3) | Total Average Reward: 79.388 | Epsilon: 0.9\n",
      "Episode:  17500 state: (4, 3) | Total Average Reward: 82.87 | Epsilon: 0.9\n",
      "Episode:  18000 state: (4, 3) | Total Average Reward: 79.404 | Epsilon: 0.9\n",
      "Episode:  18500 state: (4, 3) | Total Average Reward: 80.986 | Epsilon: 0.9\n",
      "Episode:  19000 state: (4, 3) | Total Average Reward: 82.954 | Epsilon: 0.9\n",
      "Episode:  19500 state: (4, 3) | Total Average Reward: 81.128 | Epsilon: 0.9\n",
      "Episode:  20000 state: (4, 3) | Total Average Reward: 81.794 | Epsilon: 0.9\n",
      "Episode:  20500 state: (4, 3) | Total Average Reward: 80.696 | Epsilon: 0.9\n",
      "Episode:  21000 state: (4, 3) | Total Average Reward: 81.392 | Epsilon: 0.9\n",
      "Episode:  21500 state: (4, 3) | Total Average Reward: 82.334 | Epsilon: 0.9\n",
      "Episode:  22000 state: (4, 3) | Total Average Reward: 81.306 | Epsilon: 0.9\n",
      "Episode:  22500 state: (4, 3) | Total Average Reward: 82.496 | Epsilon: 0.9\n",
      "Episode:  23000 state: (4, 3) | Total Average Reward: 83.022 | Epsilon: 0.9\n",
      "Episode:  23500 state: (4, 3) | Total Average Reward: 82.484 | Epsilon: 0.9\n",
      "Episode:  24000 state: (4, 3) | Total Average Reward: 81.504 | Epsilon: 0.9\n",
      "Episode:  24500 state: (4, 3) | Total Average Reward: 82.094 | Epsilon: 0.9\n"
     ]
    }
   ],
   "source": [
    "# Improve the Q-value table\n",
    "q = improve_q_table(env, q, parameters=parameters)"
   ]
  },
  {
   "cell_type": "code",
   "execution_count": null,
   "metadata": {},
   "outputs": [],
   "source": []
  }
 ],
 "metadata": {
  "kernelspec": {
   "display_name": "Python 3",
   "language": "python",
   "name": "python3"
  },
  "language_info": {
   "codemirror_mode": {
    "name": "ipython",
    "version": 3
   },
   "file_extension": ".py",
   "mimetype": "text/x-python",
   "name": "python",
   "nbconvert_exporter": "python",
   "pygments_lexer": "ipython3",
   "version": "3.7.3"
  }
 },
 "nbformat": 4,
 "nbformat_minor": 2
}
