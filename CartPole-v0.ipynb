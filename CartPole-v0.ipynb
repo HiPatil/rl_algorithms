{
 "cells": [
  {
   "cell_type": "code",
   "execution_count": null,
   "metadata": {},
   "outputs": [],
   "source": [
    "# Mountain Car- v0 solution using action-value neural network function approximator"
   ]
  },
  {
   "cell_type": "code",
   "execution_count": null,
   "metadata": {},
   "outputs": [],
   "source": [
    "import torch\n",
    "import torch.nn as nn\n",
    "from torchvision import transforms\n",
    "from torch.autograd import Variable\n",
    "\n",
    "# One hidden layer function approximator\n",
    "class action_value_function(nn.Module):\n",
    "\n",
    "    def __init__(self):\n",
    "\n",
    "        super(action_value_function, self).__init__()\n",
    "        self.block = nn.Sequential(\n",
    "            torch.nn.Linear(4, 100, bias = False),\n",
    "#             torch.nn.ReLU(),\n",
    "#             torch.nn.Linear(20, 4),\n",
    "#             torch.nn.ReLU(),\n",
    "            torch.nn.Linear(100, 2, bias = False),\n",
    "#             torch.nn.Softmax(),\n",
    "        )\n",
    "\n",
    "    def forward(self, input):\n",
    "        return self.block(input)\n",
    "    \n",
    "# I tried different weight initializations but found they did not perform well.\n",
    "def weights_init(m):\n",
    "    classname = m.__class__.__name__\n",
    "    if classname.find('Linear') != -1:\n",
    "        nn.init.normal_(m.weight, 0, 1)\n"
   ]
  },
  {
   "cell_type": "code",
   "execution_count": null,
   "metadata": {},
   "outputs": [],
   "source": [
    "# Instaciate action_value_function class\n",
    "q_hat = action_value_function()\n",
    "# q_hat.apply(weights_init)"
   ]
  },
  {
   "cell_type": "code",
   "execution_count": null,
   "metadata": {},
   "outputs": [],
   "source": [
    "import gym\n",
    "import numpy as np\n",
    "\n",
    "done = False\n",
    "LEARNING_RATE = 0.1\n",
    "DISCOUNT = 0.99\n",
    "EPISODES = 25000\n",
    "SHOW_EVERY = 300\n",
    "BATCH_SIZE = 4\n",
    "\n",
    "env = gym.make(\"CartPole-v1\")\n",
    "env.reset()\n",
    "\n",
    "# DISCRETE_OS_SIZE = [20, 20] #* len(env.observation_space.high)\n",
    "# discrete_os_win_size = (env.observation_space.high - env.observation_space.low)/DISCRETE_OS_SIZE\n"
   ]
  },
  {
   "cell_type": "code",
   "execution_count": null,
   "metadata": {},
   "outputs": [],
   "source": [
    "# Test number of actions and other parameters\n",
    "print('observation_space:',env.observation_space.low,'to',env.observation_space.high,'| Number of action values:',env.action_space.n)"
   ]
  },
  {
   "cell_type": "code",
   "execution_count": null,
   "metadata": {},
   "outputs": [],
   "source": [
    "4.1887903e-01"
   ]
  },
  {
   "cell_type": "code",
   "execution_count": null,
   "metadata": {},
   "outputs": [],
   "source": [
    "# # Function for discretization of observation state space\n",
    "# def get_discrete_state(state):\n",
    "#     discrete_state = (state - env.observation_space.low)/discrete_os_win_size\n",
    "#     return tuple(discrete_state.astype(np.int))  # we use this tuple to look up the 3 Q values for the available actions in the q-table\n",
    "\n",
    "# # Sampled version of q value table\n",
    "# q_table = np.random.uniform(low=-2, high=0, size=(DISCRETE_OS_SIZE + [env.action_space.n]))"
   ]
  },
  {
   "cell_type": "code",
   "execution_count": null,
   "metadata": {},
   "outputs": [],
   "source": [
    "import torch.optim as optim\n",
    "\n",
    "criterion = nn.MSELoss()\n",
    "optimizer = optim.SGD(q_hat.parameters(), lr=0.001)\n",
    "scheduler = optim.lr_scheduler.StepLR(optimizer, step_size=1, gamma=0.9)\n",
    "env.observation_space.low"
   ]
  },
  {
   "cell_type": "code",
   "execution_count": null,
   "metadata": {},
   "outputs": [],
   "source": [
    "env.close()\n",
    "cart_position, cart_velocity, angle, pole_tip_velocity = env.reset()\n",
    "env.render()\n",
    "print('cart_position:', cart_position, '| cart_velocit|y:', cart_velocity, '| angle:', angle, '| Pole Tip velocity:', pole_tip_velocity)"
   ]
  },
  {
   "cell_type": "code",
   "execution_count": null,
   "metadata": {},
   "outputs": [],
   "source": [
    "avg_loss = 0\n",
    "epsilon = 0.5\n",
    "curr_high_pos = 0\n",
    "curr_low_pos = 0\n",
    "successes = 0\n",
    "STEPS = 200"
   ]
  },
  {
   "cell_type": "code",
   "execution_count": null,
   "metadata": {},
   "outputs": [],
   "source": [
    "# Train agent\n",
    "import random\n",
    "\n",
    "for episode in range(EPISODES):\n",
    "   \n",
    "    state = torch.from_numpy(env.reset()).float()\n",
    "    done = False\n",
    "    ep_reward = 0\n",
    "    \n",
    "    if episode%SHOW_EVERY == 0:\n",
    "        print('#'*50,'| RENDERING |','#'*49)\n",
    "        RENDER = True\n",
    "    else:\n",
    "        RENDER = False\n",
    "\n",
    "    running_loss = 0\n",
    "    cont = 0\n",
    "\n",
    "    for step in range(STEPS):\n",
    "        if RENDER:\n",
    "            env.render()\n",
    "        \n",
    "        q = q_hat(Variable(state))\n",
    "        \n",
    "        if random.random() < epsilon:\n",
    "            action = env.action_space.sample()\n",
    "        else:\n",
    "            action = torch.argmax(q).item()\n",
    "        \n",
    "        next_state, reward, done, _ = env.step(action)\n",
    "        next_state = torch.from_numpy(next_state).float()\n",
    "        \n",
    "        \n",
    "        # zero the parameter gradients\n",
    "            \n",
    "#         print(count)\n",
    "             \n",
    "        if next_state[0] >= 2.4 or next_state[0] <= -2.4:\n",
    "            reward -= 1\n",
    "        if next_state[2] >= 12 or next_state[2] < -12:\n",
    "            reward -= 1\n",
    "            \n",
    "        q_target = q.clone()\n",
    "        q_target = Variable(q_target.data)\n",
    "        \n",
    "        q_target = torch.tensor(reward) + DISCOUNT * q_hat(Variable(next_state))\n",
    "        # Calculate loss\n",
    "        loss = criterion(q, q_target)\n",
    "        optimizer.zero_grad()\n",
    "        ep_reward += reward\n",
    "        loss.backward()\n",
    "    \n",
    "        optimizer.step()\n",
    "#         else:\n",
    "        state = next_state\n",
    "    \n",
    "        running_loss += loss.item()\n",
    "\n",
    "        \n",
    "    epsilon *= .99\n",
    "    scheduler.step()\n",
    "\n",
    "    avg_loss += running_loss\n",
    "    env.close()\n",
    "    if episode%100 == 0:\n",
    "        print('Episode:',episode,'| Average Loss:',avg_loss/100, '| Epsilon:',epsilon, '| Reward:', ep_reward)\n",
    "        avg_loss = 0\n",
    "        ep_reward = 0\n",
    "\n",
    "# env.close()"
   ]
  },
  {
   "cell_type": "code",
   "execution_count": null,
   "metadata": {},
   "outputs": [],
   "source": [
    "# Save model\n",
    "torch.save(q_hat,'./models/cartpole-v0.pth')"
   ]
  },
  {
   "cell_type": "code",
   "execution_count": null,
   "metadata": {},
   "outputs": [],
   "source": [
    "# Test your policy\n",
    "env.close()\n",
    "state = torch.from_numpy(env.reset()).float()\n",
    "done = False\n",
    "for step in range(2000):\n",
    "    env.render()\n",
    "    q = q_hat(Variable(state))\n",
    "    action = torch.argmax(q).item()\n",
    "\n",
    "    next_state, reward, done, _ = env.step(action)\n",
    "    next_state = torch.from_numpy(next_state).float()\n",
    "    state = next_state\n",
    "#     if reward == 1:\n",
    "#         print('Hell Yes!')\n",
    "        \n",
    "    \n",
    "env.close()"
   ]
  },
  {
   "cell_type": "code",
   "execution_count": null,
   "metadata": {},
   "outputs": [],
   "source": []
  }
 ],
 "metadata": {
  "kernelspec": {
   "display_name": "Python 3",
   "language": "python",
   "name": "python3"
  },
  "language_info": {
   "codemirror_mode": {
    "name": "ipython",
    "version": 3
   },
   "file_extension": ".py",
   "mimetype": "text/x-python",
   "name": "python",
   "nbconvert_exporter": "python",
   "pygments_lexer": "ipython3",
   "version": "3.7.3"
  }
 },
 "nbformat": 4,
 "nbformat_minor": 2
}
