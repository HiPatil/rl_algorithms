{
 "cells": [
  {
   "cell_type": "code",
   "execution_count": 2,
   "metadata": {},
   "outputs": [],
   "source": [
    "import sys\n",
    "import torch\n",
    "import gym\n",
    "import random\n",
    "import numpy as np\n",
    "import torch.nn as nn\n",
    "import torch.optim as optim\n",
    "import torch.nn.functional as F\n",
    "import matplotlib.pyplot as plt\n"
   ]
  },
  {
   "cell_type": "code",
   "execution_count": 3,
   "metadata": {},
   "outputs": [],
   "source": [
    "# Constants\n",
    "GAMMA = 0.99\n",
    "EPISODES=1000\n",
    "num_steps = 200\n",
    "max_episodes = 3000\n",
    "RENDER_EVERY = 100\n",
    "PRINT_EVERY = 50\n",
    "UPDATE_EVERY=1000\n",
    "RENDER = True\n",
    "VERBOSE = True\n",
    "EPOCH = 8\n",
    "EPSILON = 0.2\n",
    "ACTION_SCALER = 2"
   ]
  },
  {
   "cell_type": "code",
   "execution_count": null,
   "metadata": {},
   "outputs": [],
   "source": []
  },
  {
   "cell_type": "code",
   "execution_count": 4,
   "metadata": {},
   "outputs": [],
   "source": [
    "class Policy(nn.Module):\n",
    "    \n",
    "    def __init__(self, num_inputs, learning_rate=.001):\n",
    "        super(Policy, self).__init__()\n",
    "        \n",
    "        self.learning_rate = learning_rate\n",
    "        self.linear1 = nn.Linear(num_inputs, 64)\n",
    "        self.linear2 = nn.Linear(64, 64)\n",
    "        self.linear3 = nn.Linear(64, 1)\n",
    "    \n",
    "    def forward(self, state):\n",
    "        policy_dist = torch.tanh(self.linear1(state))\n",
    "        policy_dist = torch.tanh(self.linear2(policy_dist))\n",
    "        policy_dist = torch.tanh(self.linear3(policy_dist))\n",
    "        return policy_dist\n"
   ]
  },
  {
   "cell_type": "code",
   "execution_count": 5,
   "metadata": {},
   "outputs": [],
   "source": [
    "class Value(nn.Module):\n",
    "\n",
    "    def __init__(self, num_inputs, learning_rate=.001):\n",
    "        super(Value, self).__init__()\n",
    "        \n",
    "        self.learning_rate = learning_rate\n",
    "        self.linear1 = nn.Linear(num_inputs, 64)\n",
    "        self.linear2 = nn.Linear(64, 64)\n",
    "        self.linear3 = nn.Linear(64, 1)\n",
    "    \n",
    "    def forward(self, state):\n",
    "        value = torch.tanh(self.linear1(state))\n",
    "        value = torch.tanh(self.linear2(value)) \n",
    "        value = self.linear3(value)\n",
    "\n",
    "        return value"
   ]
  },
  {
   "cell_type": "code",
   "execution_count": null,
   "metadata": {},
   "outputs": [],
   "source": []
  },
  {
   "cell_type": "code",
   "execution_count": 6,
   "metadata": {},
   "outputs": [
    {
     "data": {
      "text/plain": [
       "Value(\n",
       "  (linear1): Linear(in_features=3, out_features=64, bias=True)\n",
       "  (linear2): Linear(in_features=64, out_features=64, bias=True)\n",
       "  (linear3): Linear(in_features=64, out_features=1, bias=True)\n",
       ")"
      ]
     },
     "execution_count": 6,
     "metadata": {},
     "output_type": "execute_result"
    }
   ],
   "source": [
    "env = gym.make('Pendulum-v0')\n",
    "num_inputs = env.observation_space.shape[0]\n",
    "\n",
    "actor = Policy(num_inputs)\n",
    "critic = Value(num_inputs)\n",
    "# Weight Initilization\n",
    "# actor.linear1.weight =torch.nn.init.uniform_(actor.linear1.weight, a=-3e-3, b=3e-3)\n",
    "# actor.linear1.bias =torch.nn.init.uniform_(actor.linear1.bias, a=-3e-3, b=3e-3)\n",
    "# critic.linear1.bias =torch.nn.init.uniform_(critic.linear1.bias, a=-3e-3, b=3e-3)\n",
    "# critic.linear1.weight =torch.nn.init.uniform_(critic.linear1.weight, a=-3e-3, b=3e-3)\n",
    "\n",
    "target_actor = Policy(num_inputs)\n",
    "target_critic = Value(num_inputs)\n",
    "\n",
    "actor_optimizer = optim.SGD(actor.parameters(), lr=actor.learning_rate)\n",
    "critic_optimizer = optim.Adam(critic.parameters(), lr=critic.learning_rate)\n",
    "\n",
    "# torch.optim.lr_scheduler.LambdaLR(optimizer, lr_lambda, last_epoch=-1)\n",
    "\n",
    "actor.train()\n",
    "critic.train()\n",
    "target_actor.eval()\n",
    "target_critic.eval()"
   ]
  },
  {
   "cell_type": "code",
   "execution_count": null,
   "metadata": {},
   "outputs": [],
   "source": []
  },
  {
   "cell_type": "code",
   "execution_count": 7,
   "metadata": {},
   "outputs": [],
   "source": [
    "# critic_objective = torch.nn.MSELoss(size_average=None, reduce=None, reduction='mean')\n",
    "surrogate_objective = lambda r_theta, advantage: torch.min(torch.mul(r_theta, advantage), torch.mul(torch.clamp(r_theta, 1-EPSILON, 1+EPSILON), advantage))"
   ]
  },
  {
   "cell_type": "code",
   "execution_count": null,
   "metadata": {},
   "outputs": [],
   "source": []
  },
  {
   "cell_type": "code",
   "execution_count": 8,
   "metadata": {},
   "outputs": [
    {
     "data": {
      "text/plain": [
       "Value(\n",
       "  (linear1): Linear(in_features=3, out_features=64, bias=True)\n",
       "  (linear2): Linear(in_features=64, out_features=64, bias=True)\n",
       "  (linear3): Linear(in_features=64, out_features=1, bias=True)\n",
       ")"
      ]
     },
     "execution_count": 8,
     "metadata": {},
     "output_type": "execute_result"
    }
   ],
   "source": [
    "actor.train()\n",
    "critic.train()"
   ]
  },
  {
   "cell_type": "code",
   "execution_count": 11,
   "metadata": {},
   "outputs": [],
   "source": [
    "def solve(env):\n",
    "    all_rewards = []\n",
    "    duration_rewards = []\n",
    "    \n",
    "    print('Started Training')\n",
    "\n",
    "    # collect data\n",
    "    for episode in range(max_episodes):\n",
    "        Val_buffer = torch.tensor([])\n",
    "        reward_buffer = torch.tensor([])\n",
    "        state_buffer = torch.tensor([])\n",
    "        action_buffer = torch.tensor([])\n",
    "        Qval_buffer = torch.tensor([])\n",
    "        \n",
    "        current_state = env.reset()\n",
    "        print('EPISODE: %5d'%(episode), end='\\r')\n",
    "\n",
    "        # Collect Trajectories\n",
    "        for step in range(num_steps):\n",
    "            current_state = torch.tensor(current_state).float().unsqueeze(0)\n",
    "            \n",
    "            action = actor(current_state) * ACTION_SCALER\n",
    "            action_buffer = torch.cat((action_buffer, action.detach()))\n",
    "            state_buffer = torch.cat((state_buffer, current_state))\n",
    "            next_state, reward, done, _ = env.step(action_buffer[step].numpy())\n",
    "#             reward = 1 / (( 0.1 - reward)*abs(next_state[2]))\n",
    "\n",
    "            reward_buffer = torch.cat((reward_buffer, torch.tensor([reward])))\n",
    "            \n",
    "            if RENDER and episode%RENDER_EVERY == 0:\n",
    "                env.render()\n",
    "\n",
    "            \n",
    "            Val = critic.forward(current_state)\n",
    "            Val_buffer = torch.cat((Val_buffer, Val))\n",
    "\n",
    "            next_state = torch.tensor(next_state).float().unsqueeze(0)\n",
    "#             next_action = actor(next_state.squeeze())*ACTION_SCALER\n",
    "            \n",
    "            Qval = reward_buffer[step] + GAMMA*critic(next_state.squeeze())#.numpy()\n",
    "            Qval_buffer = torch.cat((Qval_buffer, Qval.detach()))\n",
    "#             advantage = Qval - Val\n",
    "            current_state = next_state.squeeze()\n",
    "            \n",
    "\n",
    "        for k in range(EPOCH):\n",
    "            for  itr in range(10):\n",
    "                state, old_action, reward, Val, Qval = state_buffer[itr*20:itr*20+20], action_buffer[itr*20:itr*20+20], reward_buffer[itr*20:itr*20+20], Val_buffer[itr*20:itr*20+20].squeeze(dim=1), Qval_buffer[itr*20:itr*20+20]\n",
    "                \n",
    "                actor_optimizer.zero_grad()\n",
    "                critic_optimizer.zero_grad()\n",
    "                \n",
    "                loss = torch.mean(0.5*torch.pow((Val-Qval),2))\n",
    "                action = actor(state)*ACTION_SCALER\n",
    "                loss = torch.mean((surrogate_objective((action / old_action).squeeze(dim=1), (Qval-Val).detach())))\n",
    "                \n",
    "#                 print(loss.shape)\n",
    "                \n",
    "                loss.backward(retain_graph=True)\n",
    "                \n",
    "                actor_optimizer.step()                \n",
    "                critic_optimizer.step()\n",
    "       \n",
    "        torch.save(actor.state_dict(), './actor.pth')\n",
    "        \n",
    "        \n",
    "        target_actor.load_state_dict(actor.state_dict())\n",
    "        target_actor.eval()\n",
    "        \n",
    "        duration_rewards = np.append(duration_rewards, torch.sum(reward_buffer))\n",
    "        \n",
    "        if VERBOSE and episode % PRINT_EVERY == 0:                    \n",
    "            print(\"Episode: %5d | Reward: %5.0f | Mean Reward: %5.0f\"%(episode, torch.sum(reward_buffer), np.mean(duration_rewards)))\n",
    "            all_rewards = np.append(all_rewards, duration_rewards)\n",
    "            duration_rewards = []\n",
    "            plt.plot(all_rewards)\n",
    "            plt.show()\n",
    "\n",
    "env.close()"
   ]
  },
  {
   "cell_type": "code",
   "execution_count": null,
   "metadata": {},
   "outputs": [
    {
     "name": "stdout",
     "output_type": "stream",
     "text": [
      "Started Training\n",
      "EPISODE:     0\r"
     ]
    },
    {
     "name": "stderr",
     "output_type": "stream",
     "text": [
      "/home/rex/anaconda3/envs/rl/lib/python3.7/site-packages/ipykernel_launcher.py:20: UserWarning: To copy construct from a tensor, it is recommended to use sourceTensor.clone().detach() or sourceTensor.clone().detach().requires_grad_(True), rather than torch.tensor(sourceTensor).\n"
     ]
    },
    {
     "name": "stdout",
     "output_type": "stream",
     "text": [
      "Episode:     0 | Reward: -1494 | Mean Reward: -1494\n"
     ]
    },
    {
     "data": {
      "image/png": "[encoded data removed]",
      "text/plain": [
       "<Figure size 432x288 with 1 Axes>"
      ]
     },
     "metadata": {
      "needs_background": "light"
     },
     "output_type": "display_data"
    },
    {
     "name": "stdout",
     "output_type": "stream",
     "text": [
      "Episode:    50 | Reward: -1654 | Mean Reward: -1466\n"
     ]
    },
    {
     "data": {
      "image/png": "[encoded data removed]",
      "text/plain": [
       "<Figure size 432x288 with 1 Axes>"
      ]
     },
     "metadata": {
      "needs_background": "light"
     },
     "output_type": "display_data"
    },
    {
     "name": "stdout",
     "output_type": "stream",
     "text": [
      "EPISODE:   100\r"
     ]
    }
   ],
   "source": [
    "solve(env)"
   ]
  },
  {
   "cell_type": "code",
   "execution_count": null,
   "metadata": {},
   "outputs": [],
   "source": []
  },
  {
   "cell_type": "code",
   "execution_count": 15,
   "metadata": {
    "scrolled": true
   },
   "outputs": [],
   "source": [
    "env.close()"
   ]
  },
  {
   "cell_type": "code",
   "execution_count": 16,
   "metadata": {},
   "outputs": [],
   "source": [
    "# #Ornstein-Uhlenbeck Process Noise\n",
    "# th = 1;\n",
    "# mu = 1.2;\n",
    "# sig = 0.3;\n",
    "# dt = 1e-2;\n",
    "# # t = 0:dt:2;             % Time vector\n",
    "# t = np.array([])\n",
    "# for i in range(int(200/dt)):\n",
    "#     t = np.append(t,i*dt)\n",
    "# x = np.zeros((t.shape[0])); # Allocate output vector, set initial condition\n",
    "# # rng(1);                 # Set random seed\n",
    "# for i in range((t.shape[0])-1):# 1:length(t)-1\n",
    "#     x[i+1] = x[i]+th*(mu-x[i])*dt+sig*np.sqrt(dt)*np.random.randn();\n",
    "# import matplotlib.pyplot as plt\n",
    "\n",
    "# plt.plot(x);"
   ]
  },
  {
   "cell_type": "code",
   "execution_count": 13,
   "metadata": {},
   "outputs": [],
   "source": [
    "# def solve(env):\n",
    "\n",
    "#     for episode in range(max_episodes):\n",
    "#         log_probs = []\n",
    "#         values = []\n",
    "#         rewards = []\n",
    "\n",
    "#         state = env.reset()\n",
    "\n",
    "#         for steps in range(num_steps):\n",
    "            \n",
    "#             action = actor(state)\n",
    "#             action = action.detach().numpy()\n",
    "#             value = critic(state, action)\n",
    "#             value = value.detach().numpy()[0,0]\n",
    "            \n",
    "#             log_prob = torch.log(torch.tensor(action.squeeze(0)))\n",
    "# #             log_prob = torch.log(action.squeeze(0)[action])\n",
    "# #             entropy = -np.sum(np.mean(dist) * np.log(dist))\n",
    "#             next_state, reward, done, _ = env.step(action)\n",
    "            \n",
    "#             experience.add((state, action, reward, next_state))\n",
    "#             batch = experience.sample();\n",
    "            \n",
    "#             rewards.append(reward)\n",
    "# #             values.append(value)\n",
    "            \n",
    "# #             log_probs.append(log_prob)\n",
    "# #             entropy_term += entropy\n",
    "#             state = next_state.squeeze()\n",
    "            \n",
    "#             if RENDER and episode%RENDER_EVERY == 0:\n",
    "#                 env.render()\n",
    "                \n",
    "            \n",
    "#             if batch != None:\n",
    "#                 for state, action, reward, next_state in batch:\n",
    "\n",
    "#                     #Update from exp replay batches\n",
    "# #                     if done or steps == num_steps-1:\n",
    "#                     next_action = target_actor(next_state.squeeze())\n",
    "#                     Qval = target_critic.forward(next_state.squeeze(),next_action)\n",
    "#                     Qval = Qval.detach()#.numpy()#[0,0]\n",
    "#                     y_hat = Variable(torch.add(torch.tensor(reward), torch.tensor(GAMMA*critic(next_state.squeeze(), next_action))),requires_grad=True)\n",
    "                    \n",
    "#                     critic_loss = critic_objective(Qval, y_hat)\n",
    "#                     critic_optimizer.zero_grad()\n",
    "#                     critic_loss.backward()\n",
    "#                     critic_optimizer.step()\n",
    "                    \n",
    "#                     actor_loss = actor_objective(next_action, reward)\n",
    "#                     actor_optimizer.zero_grad()\n",
    "#                     actor_loss.backward()\n",
    "#                     actor_optimizer.step()\n",
    "#                 # compute Q values\n",
    "# #                 Qvals = np.zeros_like(values)\n",
    "# #                 for t in reversed(range(len(rewards))):\n",
    "# #                     Qval = rewards[t] + GAMMA * Qval\n",
    "# #                     Qvals[t] = Qval\n",
    "\n",
    "#                 #update actor critic\n",
    "# #                  values = torch.FloatTensor(values)\n",
    "# #                 Qvals = torch.FloatTensor(Qvals)\n",
    "# #                 log_probs = torch.stack(log_probs)\n",
    "\n",
    "# #                 advantage = Qvals - values\n",
    "# #                 actor_loss = Variable((-torch.tensor(log_probs) * advantage).mean(),requires_grad=True)\n",
    "# #                 critic_loss = Variable(0.5 * advantage.pow(2).mean(),requires_grad=True)\n",
    "# #         #         ac_loss = actor_loss + critic_loss# + 0.001 * entropy_term\n",
    "\n",
    "# #                 actor_optimizer.zero_grad()\n",
    "# #                 actor_loss.backward()\n",
    "# #                 actor_optimizer.step()\n",
    "\n",
    "# #                 critic_optimizer.zero_grad()\n",
    "# #                 critic_loss.backward()\n",
    "# #                 critic_optimizer.step()\n",
    "            \n",
    "#             target_actor.update(actor,Tou)\n",
    "#         print('>')\n",
    "#         all_rewards.append(np.sum(rewards))\n",
    "#         all_lengths.append(steps)\n",
    "#         average_lengths.append(np.mean(all_lengths[-10:]))\n",
    "#         if VERBOSE and episode % PRINT_EVERY == 0:                    \n",
    "#             print(\"episode: {}, reward: {}, total length: {}, average length: {} \\n\".format(episode, np.sum(rewards), steps, average_lengths[-1]))\n",
    "            \n",
    "\n",
    "#     #         avg_reward += ep_reward\n",
    "#     #     reward_buffer = np.append(reward_buffer, ep_reward)    \n",
    "#     #     avg_loss += running_loss\n",
    "#     # #     env.close()\n",
    "\n",
    "#     #     if episode%10 == 0:\n",
    "#     #         print('Episode:',episode,'| Average Loss:',avg_loss/100, '| Epsilon:',epsilon, '| Average Reward:', avg_reward /255)\n",
    "#     #         avg_loss = 0\n",
    "#     #         avg_reward = 0\n",
    "#     #         plt.plot(reward_buffer)\n",
    "#     #         plt.show()\n",
    "\n",
    "# env.close()"
   ]
  },
  {
   "cell_type": "code",
   "execution_count": null,
   "metadata": {},
   "outputs": [],
   "source": []
  }
 ],
 "metadata": {
  "kernelspec": {
   "display_name": "Python 3",
   "language": "python",
   "name": "python3"
  },
  "language_info": {
   "codemirror_mode": {
    "name": "ipython",
    "version": 3
   },
   "file_extension": ".py",
   "mimetype": "text/x-python",
   "name": "python",
   "nbconvert_exporter": "python",
   "pygments_lexer": "ipython3",
   "version": "3.7.3"
  }
 },
 "nbformat": 4,
 "nbformat_minor": 2
}
