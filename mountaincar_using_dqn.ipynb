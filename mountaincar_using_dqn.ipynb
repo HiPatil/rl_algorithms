{
 "cells": [
  {
   "cell_type": "code",
   "execution_count": 41,
   "metadata": {},
   "outputs": [],
   "source": [
    "# Mountain Car- v0 solution using action-value neural network function approximator"
   ]
  },
  {
   "cell_type": "code",
   "execution_count": 42,
   "metadata": {},
   "outputs": [],
   "source": [
    "import torch\n",
    "import torch.nn as nn\n",
    "from torchvision import transforms\n",
    "from torch.autograd import Variable\n",
    "\n",
    "# One hidden layer function approximator\n",
    "class action_value_function(nn.Module):\n",
    "\n",
    "    def __init__(self):\n",
    "\n",
    "        super(action_value_function, self).__init__()\n",
    "        self.block = nn.Sequential(\n",
    "            torch.nn.Linear(2, 100, bias = False),\n",
    "#             torch.nn.ReLU(),\n",
    "#             torch.nn.Linear(20, 4),\n",
    "#             torch.nn.ReLU(),\n",
    "            torch.nn.Linear(100, 3, bias = False),\n",
    "#             torch.nn.Softmax(),\n",
    "        )\n",
    "\n",
    "    def forward(self, input):\n",
    "        return self.block(input)\n",
    "    \n",
    "# I tried different weight initializations but found they did not perform well.\n",
    "def weights_init(m):\n",
    "    classname = m.__class__.__name__\n",
    "    if classname.find('Linear') != -1:\n",
    "        nn.init.normal_(m.weight, 0, 1)\n"
   ]
  },
  {
   "cell_type": "code",
   "execution_count": 43,
   "metadata": {},
   "outputs": [],
   "source": [
    "# Instaciate action_value_function class\n",
    "q_hat = action_value_function()\n",
    "# q_hat.apply(weights_init)"
   ]
  },
  {
   "cell_type": "code",
   "execution_count": 44,
   "metadata": {},
   "outputs": [],
   "source": [
    "import gym\n",
    "import numpy as np\n",
    "\n",
    "done = False\n",
    "LEARNING_RATE = 0.1\n",
    "DISCOUNT = 0.99\n",
    "EPISODES = 25000\n",
    "SHOW_EVERY = 300\n",
    "BATCH_SIZE = 4\n",
    "\n",
    "env = gym.make(\"MountainCar-v0\")\n",
    "env.reset()\n",
    "\n",
    "DISCRETE_OS_SIZE = [20, 20] #* len(env.observation_space.high)\n",
    "discrete_os_win_size = (env.observation_space.high - env.observation_space.low)/DISCRETE_OS_SIZE\n"
   ]
  },
  {
   "cell_type": "code",
   "execution_count": 45,
   "metadata": {},
   "outputs": [
    {
     "name": "stdout",
     "output_type": "stream",
     "text": [
      "observation_space: [-1.2  -0.07] to [0.6  0.07] | Number of action values: 3\n"
     ]
    }
   ],
   "source": [
    "# Test number of actions and other parameters\n",
    "print('observation_space:',env.observation_space.low,'to',env.observation_space.high,'| Number of action values:',env.action_space.n)"
   ]
  },
  {
   "cell_type": "code",
   "execution_count": 46,
   "metadata": {},
   "outputs": [],
   "source": [
    "# Function for discretization of observation state space\n",
    "def get_discrete_state(state):\n",
    "    discrete_state = (state - env.observation_space.low)/discrete_os_win_size\n",
    "    return tuple(discrete_state.astype(np.int))  # we use this tuple to look up the 3 Q values for the available actions in the q-table\n",
    "\n",
    "# Sampled version of q value table\n",
    "q_table = np.random.uniform(low=-2, high=0, size=(DISCRETE_OS_SIZE + [env.action_space.n]))"
   ]
  },
  {
   "cell_type": "code",
   "execution_count": 47,
   "metadata": {},
   "outputs": [],
   "source": [
    "import torch.optim as optim\n",
    "\n",
    "criterion = nn.MSELoss()\n",
    "optimizer = optim.SGD(q_hat.parameters(), lr=0.001)\n",
    "scheduler = optim.lr_scheduler.StepLR(optimizer, step_size=1, gamma=0.9)\n"
   ]
  },
  {
   "cell_type": "code",
   "execution_count": 48,
   "metadata": {},
   "outputs": [],
   "source": [
    "env.render()\n",
    "env.close()"
   ]
  },
  {
   "cell_type": "code",
   "execution_count": 49,
   "metadata": {},
   "outputs": [],
   "source": [
    "avg_loss = 0\n",
    "epsilon = 0.3\n",
    "curr_high_pos = 0\n",
    "curr_low_pos = 0\n",
    "successes = 0"
   ]
  },
  {
   "cell_type": "code",
   "execution_count": 61,
   "metadata": {},
   "outputs": [
    {
     "name": "stdout",
     "output_type": "stream",
     "text": [
      "################################################## | RENDERING | #################################################\n",
      "Episode: 0 | Average Loss: 202.62259317827983 | Epsilon: 5.02731203397281e-14\n",
      "Episode: 100 | Average Loss: 166.32273591024907 | Epsilon: 3.832534701848689e-14\n",
      "Episode: 200 | Average Loss: 175.7621468585451 | Epsilon: 2.7232199010316398e-14\n",
      "################################################## | RENDERING | #################################################\n",
      "Episode: 300 | Average Loss: 254.45586506561747 | Epsilon: 1.8035396341034355e-14\n",
      "Episode: 400 | Average Loss: 235.32329247979678 | Epsilon: 1.1944519098695293e-14\n",
      "Episode: 500 | Average Loss: 204.59501934302952 | Epsilon: 8.152786396003798e-15\n",
      "################################################## | RENDERING | #################################################\n",
      "Episode: 600 | Average Loss: 259.1033448405656 | Epsilon: 5.345449573911329e-15\n",
      "Episode: 700 | Average Loss: 258.2120341598072 | Epsilon: 3.5401952537869598e-15\n",
      "Episode: 800 | Average Loss: 228.53473849623413 | Epsilon: 2.440784381521467e-15\n",
      "################################################## | RENDERING | #################################################\n",
      "Episode: 900 | Average Loss: 206.40597512669933 | Epsilon: 1.6164876617958675e-15\n"
     ]
    },
    {
     "ename": "KeyboardInterrupt",
     "evalue": "",
     "output_type": "error",
     "traceback": [
      "\u001b[0;31m---------------------------------------------------------------------------\u001b[0m",
      "\u001b[0;31mKeyboardInterrupt\u001b[0m                         Traceback (most recent call last)",
      "\u001b[0;32m<ipython-input-61-858a92755089>\u001b[0m in \u001b[0;36m<module>\u001b[0;34m\u001b[0m\n\u001b[1;32m     37\u001b[0m         \u001b[0moptimizer\u001b[0m\u001b[0;34m.\u001b[0m\u001b[0mzero_grad\u001b[0m\u001b[0;34m(\u001b[0m\u001b[0;34m)\u001b[0m\u001b[0;34m\u001b[0m\u001b[0;34m\u001b[0m\u001b[0m\n\u001b[1;32m     38\u001b[0m \u001b[0;34m\u001b[0m\u001b[0m\n\u001b[0;32m---> 39\u001b[0;31m         \u001b[0mloss\u001b[0m\u001b[0;34m.\u001b[0m\u001b[0mbackward\u001b[0m\u001b[0;34m(\u001b[0m\u001b[0;34m)\u001b[0m\u001b[0;34m\u001b[0m\u001b[0;34m\u001b[0m\u001b[0m\n\u001b[0m\u001b[1;32m     40\u001b[0m \u001b[0;34m\u001b[0m\u001b[0m\n\u001b[1;32m     41\u001b[0m         \u001b[0moptimizer\u001b[0m\u001b[0;34m.\u001b[0m\u001b[0mstep\u001b[0m\u001b[0;34m(\u001b[0m\u001b[0;34m)\u001b[0m\u001b[0;34m\u001b[0m\u001b[0;34m\u001b[0m\u001b[0m\n",
      "\u001b[0;32m~/anaconda3/envs/rl/lib/python3.7/site-packages/torch/tensor.py\u001b[0m in \u001b[0;36mbackward\u001b[0;34m(self, gradient, retain_graph, create_graph)\u001b[0m\n\u001b[1;32m    105\u001b[0m                 \u001b[0mproducts\u001b[0m\u001b[0;34m.\u001b[0m \u001b[0mDefaults\u001b[0m \u001b[0mto\u001b[0m\u001b[0;31m \u001b[0m\u001b[0;31m`\u001b[0m\u001b[0;31m`\u001b[0m\u001b[0;32mFalse\u001b[0m\u001b[0;31m`\u001b[0m\u001b[0;31m`\u001b[0m\u001b[0;34m.\u001b[0m\u001b[0;34m\u001b[0m\u001b[0;34m\u001b[0m\u001b[0m\n\u001b[1;32m    106\u001b[0m         \"\"\"\n\u001b[0;32m--> 107\u001b[0;31m         \u001b[0mtorch\u001b[0m\u001b[0;34m.\u001b[0m\u001b[0mautograd\u001b[0m\u001b[0;34m.\u001b[0m\u001b[0mbackward\u001b[0m\u001b[0;34m(\u001b[0m\u001b[0mself\u001b[0m\u001b[0;34m,\u001b[0m \u001b[0mgradient\u001b[0m\u001b[0;34m,\u001b[0m \u001b[0mretain_graph\u001b[0m\u001b[0;34m,\u001b[0m \u001b[0mcreate_graph\u001b[0m\u001b[0;34m)\u001b[0m\u001b[0;34m\u001b[0m\u001b[0;34m\u001b[0m\u001b[0m\n\u001b[0m\u001b[1;32m    108\u001b[0m \u001b[0;34m\u001b[0m\u001b[0m\n\u001b[1;32m    109\u001b[0m     \u001b[0;32mdef\u001b[0m \u001b[0mregister_hook\u001b[0m\u001b[0;34m(\u001b[0m\u001b[0mself\u001b[0m\u001b[0;34m,\u001b[0m \u001b[0mhook\u001b[0m\u001b[0;34m)\u001b[0m\u001b[0;34m:\u001b[0m\u001b[0;34m\u001b[0m\u001b[0;34m\u001b[0m\u001b[0m\n",
      "\u001b[0;32m~/anaconda3/envs/rl/lib/python3.7/site-packages/torch/autograd/__init__.py\u001b[0m in \u001b[0;36mbackward\u001b[0;34m(tensors, grad_tensors, retain_graph, create_graph, grad_variables)\u001b[0m\n\u001b[1;32m     91\u001b[0m     Variable._execution_engine.run_backward(\n\u001b[1;32m     92\u001b[0m         \u001b[0mtensors\u001b[0m\u001b[0;34m,\u001b[0m \u001b[0mgrad_tensors\u001b[0m\u001b[0;34m,\u001b[0m \u001b[0mretain_graph\u001b[0m\u001b[0;34m,\u001b[0m \u001b[0mcreate_graph\u001b[0m\u001b[0;34m,\u001b[0m\u001b[0;34m\u001b[0m\u001b[0;34m\u001b[0m\u001b[0m\n\u001b[0;32m---> 93\u001b[0;31m         allow_unreachable=True)  # allow_unreachable flag\n\u001b[0m\u001b[1;32m     94\u001b[0m \u001b[0;34m\u001b[0m\u001b[0m\n\u001b[1;32m     95\u001b[0m \u001b[0;34m\u001b[0m\u001b[0m\n",
      "\u001b[0;31mKeyboardInterrupt\u001b[0m: "
     ]
    }
   ],
   "source": [
    "# Train agent\n",
    "import random\n",
    "\n",
    "for episode in range(EPISODES):\n",
    "   \n",
    "    state = torch.from_numpy(env.reset()).float()\n",
    "    done = False\n",
    "    \n",
    "    if episode%SHOW_EVERY == 0:\n",
    "        print('#'*50,'| RENDERING |','#'*49)\n",
    "        RENDER = True\n",
    "    else:\n",
    "        RENDER = False\n",
    "\n",
    "    running_loss = 0\n",
    "\n",
    "    while not done:\n",
    "        if RENDER:\n",
    "            env.render()\n",
    "        \n",
    "        q = q_hat(Variable(state))\n",
    "        \n",
    "        if random.random() < epsilon:\n",
    "            action = env.action_space.sample()\n",
    "        else:\n",
    "            action = torch.argmax(q).item()\n",
    "        \n",
    "        next_state, reward, done, _ = env.step(action)\n",
    "        next_state = torch.from_numpy(next_state).float()\n",
    "        \n",
    "        q_target = q.clone()\n",
    "        q_target = Variable(q_target.data)\n",
    "        \n",
    "        q_target[action] = reward + DISCOUNT * max(q_hat(Variable(next_state)).detach())\n",
    "        # Calculate loss\n",
    "        loss = criterion(q, q_target)\n",
    "        optimizer.zero_grad()\n",
    "    \n",
    "        loss.backward()\n",
    "    \n",
    "        optimizer.step()\n",
    "        # zero the parameter gradients\n",
    "\n",
    "        if next_state[0] >= 0.5:\n",
    "            epsilon *= .99\n",
    "            scheduler.step()\n",
    "            break \n",
    "        \n",
    "\n",
    "        else:\n",
    "            state = next_state\n",
    "    \n",
    "        running_loss += loss.item()\n",
    "            \n",
    "    avg_loss += running_loss\n",
    "    env.close()\n",
    "    if episode%100 == 0:\n",
    "        print('Episode:',episode,'| Average Loss:',avg_loss/100, '| Epsilon:',epsilon)\n",
    "        avg_loss = 0\n",
    "\n",
    "\n",
    "# env.close()"
   ]
  },
  {
   "cell_type": "code",
   "execution_count": 60,
   "metadata": {},
   "outputs": [],
   "source": [
    "# Test your policy\n",
    "env.close()\n",
    "state = torch.from_numpy(env.reset()).float()\n",
    "done = False\n",
    "while not done:\n",
    "    env.render()\n",
    "    q = q_hat(Variable(state))\n",
    "    action = env.action_space.sample()#torch.argmax(q).item()\n",
    "\n",
    "    next_state, reward, done, _ = env.step(action)\n",
    "    next_state = torch.from_numpy(next_state).float()\n",
    "    state = next_state\n",
    "    if reward == 1:\n",
    "        print('Hell Yes!')\n",
    "        \n",
    "    \n",
    "env.close()"
   ]
  },
  {
   "cell_type": "code",
   "execution_count": null,
   "metadata": {},
   "outputs": [],
   "source": []
  },
  {
   "cell_type": "code",
   "execution_count": null,
   "metadata": {},
   "outputs": [],
   "source": [
    "type(q_target)"
   ]
  },
  {
   "cell_type": "code",
   "execution_count": null,
   "metadata": {},
   "outputs": [],
   "source": []
  },
  {
   "cell_type": "code",
   "execution_count": null,
   "metadata": {},
   "outputs": [],
   "source": []
  },
  {
   "cell_type": "code",
   "execution_count": null,
   "metadata": {},
   "outputs": [],
   "source": []
  },
  {
   "cell_type": "code",
   "execution_count": null,
   "metadata": {},
   "outputs": [],
   "source": []
  },
  {
   "cell_type": "code",
   "execution_count": null,
   "metadata": {},
   "outputs": [],
   "source": [
    "# import ipympl\n",
    "\n",
    "import matplotlib.pyplot as plt\n",
    "import gym\n",
    "import numpy as np\n",
    "# from tqdm import tqdm, trange\n",
    "import pandas as pd\n",
    "import torch\n",
    "import torch.nn as nn\n",
    "import torch.optim as optim\n",
    "import torch.nn.functional as F\n",
    "from torch.autograd import Variable\n",
    "# from tensorboardX import SummaryWriter\n",
    "from datetime import datetime\n",
    "import glob, os"
   ]
  },
  {
   "cell_type": "code",
   "execution_count": null,
   "metadata": {},
   "outputs": [],
   "source": [
    "env = gym.make('MountainCar-v0')\n",
    "env.seed(1); torch.manual_seed(1); np.random.seed(1)\n",
    "# PATH = glob.glob(os.path.expanduser('~/tboardlogs/'))[0]\n",
    "# writer = SummaryWriter('~/tboardlogs/{}'.format(datetime.now().strftime('%b%d_%H-%M-%S')))"
   ]
  },
  {
   "cell_type": "code",
   "execution_count": null,
   "metadata": {},
   "outputs": [],
   "source": [
    "max_position = -.4\n",
    "positions = np.ndarray([0,2])\n",
    "rewards = []\n",
    "successful = []\n",
    "for episode in range(1000):\n",
    "    running_reward = 0\n",
    "    env.reset()\n",
    "    done = False\n",
    "    for i in range(200):\n",
    "        state, reward, done, _ = env.step(np.random.randint(0,3))\n",
    "        # Give a reward for reaching a new maximum position\n",
    "        if state[0] > max_position:\n",
    "            max_position = state[0]\n",
    "            positions = np.append(positions, [[episode, max_position]], axis=0)\n",
    "            running_reward += 10\n",
    "        else:\n",
    "            running_reward += reward\n",
    "        if done: \n",
    "            if state[0] >= 0.5:\n",
    "                successful.append(episode)\n",
    "            rewards.append(running_reward)\n",
    "            break\n",
    "\n",
    "print('Furthest Position: {}'.format(max_position))\n",
    "plt.figure(1, figsize=[10,5])\n",
    "plt.subplot(211)\n",
    "plt.plot(positions[:,0], positions[:,1])\n",
    "plt.xlabel('Episode')\n",
    "plt.ylabel('Furthest Position')\n",
    "plt.subplot(212)\n",
    "plt.plot(rewards)\n",
    "plt.xlabel('Episode')\n",
    "plt.ylabel('Reward')\n",
    "plt.show()\n",
    "print('successful episodes: {}'.format(np.count_nonzero(successful)))"
   ]
  },
  {
   "cell_type": "code",
   "execution_count": null,
   "metadata": {},
   "outputs": [],
   "source": []
  },
  {
   "cell_type": "code",
   "execution_count": null,
   "metadata": {},
   "outputs": [],
   "source": [
    "# # I tried different weight initializations but found they did not perform well.\n",
    "# def weights_init(m):\n",
    "#     classname = m.__class__.__name__\n",
    "#     if classname.find('Linear') != -1:\n",
    "#         nn.init.normal_(m.weight, 0, 1)\n",
    "\n",
    "class Policy(nn.Module):\n",
    "    def __init__(self):\n",
    "        super(Policy, self).__init__()\n",
    "        self.state_space = env.observation_space.shape[0]\n",
    "        self.action_space = env.action_space.n\n",
    "        self.hidden = 200\n",
    "        self.l1 = nn.Linear(self.state_space, self.hidden, bias=False)\n",
    "        self.l2 = nn.Linear(self.hidden, self.action_space, bias=False)\n",
    "    \n",
    "    def forward(self, x):    \n",
    "        model = torch.nn.Sequential(\n",
    "            self.l1,\n",
    "            self.l2,\n",
    "        )\n",
    "        return model(x)"
   ]
  },
  {
   "cell_type": "code",
   "execution_count": null,
   "metadata": {},
   "outputs": [],
   "source": []
  },
  {
   "cell_type": "code",
   "execution_count": null,
   "metadata": {},
   "outputs": [],
   "source": [
    "# Parameters\n",
    "steps = 2000\n",
    "state = env.reset()\n",
    "epsilon = 0.3\n",
    "gamma = 0.99\n",
    "loss_history = []\n",
    "reward_history = []\n",
    "episodes = 3000\n",
    "max_position = -0.4\n",
    "learning_rate = 0.001\n",
    "successes = 0\n",
    "position = []\n",
    "done = False\n",
    "\n",
    "# Initialize Policy\n",
    "policy = Policy()\n",
    "loss_fn = nn.MSELoss()\n",
    "optimizer = optim.SGD(policy.parameters(), lr=learning_rate)\n",
    "scheduler = optim.lr_scheduler.StepLR(optimizer, step_size=1, gamma=0.9)\n",
    "\n",
    "for episode in range(episodes):\n",
    "    episode_loss = 0\n",
    "    episode_reward = 0\n",
    "    state = env.reset()\n",
    "#     print(episode)\n",
    "\n",
    "    for s in range(steps):\n",
    "#     while not(done):\n",
    "#         Uncomment to render environment\n",
    "        if episode % 300 == 0 and episode > 0:\n",
    "           env.render()\n",
    "        \n",
    "        # Get first action value function\n",
    "        Q = policy(Variable(torch.from_numpy(state).type(torch.FloatTensor)))\n",
    "        \n",
    "        # Choose epsilon-greedy action\n",
    "        if np.random.rand(1) < epsilon:\n",
    "            action = np.random.randint(0,3)\n",
    "        else:\n",
    "            _, action = torch.max(Q, -1)\n",
    "            action = action.item()\n",
    "        \n",
    "        # Step forward and receive next state and reward\n",
    "        state_1, reward, done, _ = env.step(action)\n",
    "        \n",
    "        # Find max Q for t+1 state\n",
    "        Q1 = policy(Variable(torch.from_numpy(state_1).type(torch.FloatTensor)))\n",
    "        maxQ1, _ = torch.max(Q1, -1)\n",
    "        \n",
    "        # Create target Q value for training the policy\n",
    "        Q_target = Q.clone()\n",
    "        Q_target = Variable(Q_target.data)\n",
    "        Q_target[action] = reward + torch.mul(maxQ1.detach(), gamma)\n",
    "        \n",
    "        # Calculate loss\n",
    "        loss = loss_fn(Q, Q_target)\n",
    "#         print(loss)\n",
    "        # Update policy\n",
    "        policy.zero_grad()\n",
    "        loss.backward()\n",
    "        optimizer.step()\n",
    "\n",
    "        # Record history\n",
    "        episode_loss += loss.item()\n",
    "        episode_reward += reward\n",
    "        # Keep track of max position\n",
    "        if state_1[0] > max_position:\n",
    "            max_position = state_1[0]\n",
    "#             writer.add_scalar('data/max_position', max_position, episode)\n",
    "        \n",
    "        if done:\n",
    "            if state_1[0] >= 0.5:\n",
    "                # On successful epsisodes, adjust the following parameters\n",
    "                print('I nailed it!')\n",
    "                # Adjust epsilon\n",
    "                epsilon *= .99\n",
    "#                 writer.add_scalar('data/epsilon', epsilon, episode)\n",
    "\n",
    "                # Adjust learning rate\n",
    "                scheduler.step()\n",
    "#                 writer.add_scalar('data/learning_rate', optimizer.param_groups[0]['lr'], episode)\n",
    "\n",
    "                # Record successful episode\n",
    "                successes += 1\n",
    "#                 writer.add_scalar('data/cumulative_success', successes, episode)\n",
    "#                 writer.add_scalar('data/success', 1, episode)\n",
    "            \n",
    "            elif state_1[0] < 0.5:\n",
    "#                 writer.add_scalar('data/success', 0, episode)\n",
    "                pass\n",
    "            \n",
    "            # Record history\n",
    "            loss_history.append(episode_loss)\n",
    "            reward_history.append(episode_reward)\n",
    "#             writer.add_scalar('data/episode_loss', episode_loss, episode)\n",
    "#             writer.add_scalar('data/episode_reward', episode_reward, episode)\n",
    "            weights = np.sum(np.abs(policy.l2.weight.data.numpy()))+np.sum(np.abs(policy.l1.weight.data.numpy()))\n",
    "#             writer.add_scalar('data/weights', weights, episode)\n",
    "#             writer.add_scalar('data/position', state_1[0], episode)\n",
    "            position.append(state_1[0])\n",
    "\n",
    "            break\n",
    "        else:\n",
    "            state = state_1\n",
    "            \n",
    "# writer.close()\n",
    "print('successful episodes: {:d} - {:.4f}%'.format(successes, successes/episodes*100))"
   ]
  },
  {
   "cell_type": "code",
   "execution_count": null,
   "metadata": {},
   "outputs": [],
   "source": [
    "episode"
   ]
  },
  {
   "cell_type": "code",
   "execution_count": null,
   "metadata": {},
   "outputs": [],
   "source": [
    "import torch"
   ]
  },
  {
   "cell_type": "code",
   "execution_count": null,
   "metadata": {},
   "outputs": [],
   "source": [
    "k = torch.ones(3,1)"
   ]
  },
  {
   "cell_type": "code",
   "execution_count": null,
   "metadata": {},
   "outputs": [],
   "source": [
    "k[2] = 15\n",
    "print(k)"
   ]
  },
  {
   "cell_type": "code",
   "execution_count": null,
   "metadata": {},
   "outputs": [],
   "source": [
    "torch.argmax(k).item()"
   ]
  },
  {
   "cell_type": "code",
   "execution_count": null,
   "metadata": {},
   "outputs": [],
   "source": []
  }
 ],
 "metadata": {
  "kernelspec": {
   "display_name": "Python 3",
   "language": "python",
   "name": "python3"
  },
  "language_info": {
   "codemirror_mode": {
    "name": "ipython",
    "version": 3
   },
   "file_extension": ".py",
   "mimetype": "text/x-python",
   "name": "python",
   "nbconvert_exporter": "python",
   "pygments_lexer": "ipython3",
   "version": "3.7.3"
  }
 },
 "nbformat": 4,
 "nbformat_minor": 2
}
